{
 "cells": [
  {
   "cell_type": "markdown",
   "id": "chicken-announcement",
   "metadata": {},
   "source": [
    "# Michael Stephens\n",
    "\n",
    "### Instagram \"Likes\" Report"
   ]
  },
  {
   "cell_type": "markdown",
   "id": "statutory-comparison",
   "metadata": {},
   "source": [
    "##### Required Packages:"
   ]
  },
  {
   "cell_type": "code",
   "execution_count": 3,
   "id": "likely-uruguay",
   "metadata": {},
   "outputs": [],
   "source": [
    "from matplotlib import pyplot as plt\n",
    "import json\n",
    "from datetime import datetime as dt\n",
    "import pandas as pd\n",
    "import seaborn"
   ]
  },
  {
   "cell_type": "markdown",
   "id": "stretch-logistics",
   "metadata": {},
   "source": [
    "##### Import Data:"
   ]
  },
  {
   "cell_type": "code",
   "execution_count": 52,
   "id": "supported-praise",
   "metadata": {},
   "outputs": [
    {
     "data": {
      "text/plain": [
       "{'media_likes': [['2020-12-16T23:33:58+00:00', 'grey_gallows_gr'],\n",
       "  ['2020-12-16T16:23:08+00:00', 'blackphoenixalchemylab'],\n",
       "  ['2020-12-15T18:54:21+00:00', 'themourningband'],\n",
       "  ['2020-12-15T18:53:55+00:00', 'malefixioband'],\n",
       "  ['2020-12-15T18:53:44+00:00', 'pilgrimsofyearning'],\n",
       "  ['2020-12-15T18:53:28+00:00', '_djazy_'],\n",
       "  ['2020-11-27T13:43:32+00:00', 'kingvenusmusic'],\n",
       "  ['2020-10-30T01:52:26+00:00', 'blackphoenixalchemylab'],\n",
       "  ['2020-10-30T01:49:02+00:00', 'hallowsmusic_'],\n",
       "  ['2020-10-28T18:17:55+00:00', 'the_wake_us'],\n",
       "  ['2020-10-12T02:09:16+00:00', 'altardefey'],\n",
       "  ['2020-05-22T02:00:50+00:00', 'deathwavefest'],\n",
       "  ['2020-05-21T00:26:30+00:00', 'redapplecvlt'],\n",
       "  ['2020-04-25T17:34:10+00:00', 'blackphoenixalchemylab'],\n",
       "  ['2020-04-22T22:31:24+00:00', 'redapplecvlt'],\n",
       "  ['2020-04-21T13:38:36+00:00', 'secretsinrecords'],\n",
       "  ['2020-04-21T13:34:21+00:00', 'gothrockers'],\n",
       "  ['2020-04-21T13:33:34+00:00', 'redapplecvlt'],\n",
       "  ['2020-04-20T17:32:12+00:00', 'tenderlash'],\n",
       "  ['2020-04-20T17:31:36+00:00', 'redapplecvlt'],\n",
       "  ['2020-04-11T13:26:42+00:00', 'the_beauty_of_gemina'],\n",
       "  ['2020-04-02T17:48:46+00:00', 'ligeia_resurrected'],\n",
       "  ['2020-03-30T20:22:41+00:00', 'fadeinpr'],\n",
       "  ['2020-03-20T22:20:46+00:00', 'blackphoenixalchemylab'],\n",
       "  ['2020-03-20T22:19:25+00:00', 'zolajesus'],\n",
       "  ['2020-02-23T16:15:10+00:00', 'deathwavefest'],\n",
       "  ['2020-02-12T15:09:05+00:00', 'anarchogoth'],\n",
       "  ['2020-01-31T18:02:57+00:00', 'zolajesus'],\n",
       "  ['2020-01-28T20:06:16+00:00', 'anarchogoth'],\n",
       "  ['2020-01-28T20:04:56+00:00', 'deathwavefest'],\n",
       "  ['2020-01-28T03:31:09+00:00', 'ligeia_resurrected'],\n",
       "  ['2020-01-26T21:34:28+00:00', 'electricwildflower'],\n",
       "  ['2020-01-23T04:59:25+00:00', 'lisamilesviolin'],\n",
       "  ['2020-01-22T05:47:11+00:00', 'blackphoenixalchemylab'],\n",
       "  ['2020-01-20T02:10:42+00:00', 'lascaltra_official'],\n",
       "  ['2020-01-17T21:21:20+00:00', 'deathwavefest'],\n",
       "  ['2020-01-17T21:20:55+00:00', 'gothrockers'],\n",
       "  ['2020-01-17T21:20:37+00:00', 'the_wake_us'],\n",
       "  ['2020-01-15T18:11:40+00:00', 'blackphoenixalchemylab'],\n",
       "  ['2020-01-13T23:32:13+00:00', 'ashesfallenmusic'],\n",
       "  ['2020-01-13T14:22:11+00:00', 'the_wake_us'],\n",
       "  ['2020-01-12T16:53:34+00:00', 'blackphoenixalchemylab'],\n",
       "  ['2020-01-12T02:17:34+00:00', 'cadaverkelly'],\n",
       "  ['2020-01-10T22:29:45+00:00', 'the_wake_us'],\n",
       "  ['2020-01-10T20:18:29+00:00', 'gothrockers'],\n",
       "  ['2020-01-09T20:43:18+00:00', 'obscuraundead'],\n",
       "  ['2020-01-05T16:58:51+00:00', 'auger.band'],\n",
       "  ['2020-01-02T15:27:25+00:00', 'astarinite43'],\n",
       "  ['2020-01-01T19:20:02+00:00', 'the_wake_us'],\n",
       "  ['2020-01-01T03:32:18+00:00', 'lascaltra_official'],\n",
       "  ['2020-01-01T03:32:12+00:00', 'herdespairband'],\n",
       "  ['2020-01-01T03:32:07+00:00', 'the_wake_us'],\n",
       "  ['2020-01-01T03:31:45+00:00', 'marissa_nadler']]}"
      ]
     },
     "execution_count": 52,
     "metadata": {},
     "output_type": "execute_result"
    }
   ],
   "source": [
    "with open(r'C:\\Users\\waxen\\Desktop\\nocturnal_asylum_20210210\\likes.json') as a:\n",
    "    elikes = json.load(a)\n",
    "elikes"
   ]
  },
  {
   "cell_type": "markdown",
   "id": "crucial-sight",
   "metadata": {},
   "source": [
    "##### Determine Keys:"
   ]
  },
  {
   "cell_type": "code",
   "execution_count": 53,
   "id": "better-photograph",
   "metadata": {},
   "outputs": [
    {
     "data": {
      "text/plain": [
       "dict_keys(['media_likes'])"
      ]
     },
     "execution_count": 53,
     "metadata": {},
     "output_type": "execute_result"
    }
   ],
   "source": [
    "elikes.keys()"
   ]
  },
  {
   "cell_type": "markdown",
   "id": "forward-mobile",
   "metadata": {},
   "source": [
    "##### Determine Types:"
   ]
  },
  {
   "cell_type": "code",
   "execution_count": 54,
   "id": "sonic-trailer",
   "metadata": {},
   "outputs": [
    {
     "data": {
      "text/plain": [
       "list"
      ]
     },
     "execution_count": 54,
     "metadata": {},
     "output_type": "execute_result"
    }
   ],
   "source": [
    "type(elikes['media_likes'])"
   ]
  },
  {
   "cell_type": "markdown",
   "id": "turned-tribune",
   "metadata": {},
   "source": [
    "##### Examine 1st Item in List"
   ]
  },
  {
   "cell_type": "code",
   "execution_count": 55,
   "id": "curious-ticket",
   "metadata": {},
   "outputs": [
    {
     "data": {
      "text/plain": [
       "['2020-12-16T23:33:58+00:00', 'grey_gallows_gr']"
      ]
     },
     "execution_count": 55,
     "metadata": {},
     "output_type": "execute_result"
    }
   ],
   "source": [
    "elikes['media_likes'][0]"
   ]
  },
  {
   "cell_type": "markdown",
   "id": "chemical-engineer",
   "metadata": {},
   "source": [
    "##### Create Data Frame:"
   ]
  },
  {
   "cell_type": "code",
   "execution_count": 56,
   "id": "fifteen-fitness",
   "metadata": {},
   "outputs": [
    {
     "name": "stdout",
     "output_type": "stream",
     "text": [
      "                            0                       1\n",
      "0   2020-12-16T23:33:58+00:00         grey_gallows_gr\n",
      "1   2020-12-16T16:23:08+00:00  blackphoenixalchemylab\n",
      "2   2020-12-15T18:54:21+00:00         themourningband\n",
      "3   2020-12-15T18:53:55+00:00           malefixioband\n",
      "4   2020-12-15T18:53:44+00:00      pilgrimsofyearning\n",
      "5   2020-12-15T18:53:28+00:00                 _djazy_\n",
      "6   2020-11-27T13:43:32+00:00          kingvenusmusic\n",
      "7   2020-10-30T01:52:26+00:00  blackphoenixalchemylab\n",
      "8   2020-10-30T01:49:02+00:00           hallowsmusic_\n",
      "9   2020-10-28T18:17:55+00:00             the_wake_us\n",
      "10  2020-10-12T02:09:16+00:00              altardefey\n",
      "11  2020-05-22T02:00:50+00:00           deathwavefest\n",
      "12  2020-05-21T00:26:30+00:00            redapplecvlt\n",
      "13  2020-04-25T17:34:10+00:00  blackphoenixalchemylab\n",
      "14  2020-04-22T22:31:24+00:00            redapplecvlt\n",
      "15  2020-04-21T13:38:36+00:00        secretsinrecords\n",
      "16  2020-04-21T13:34:21+00:00             gothrockers\n",
      "17  2020-04-21T13:33:34+00:00            redapplecvlt\n",
      "18  2020-04-20T17:32:12+00:00              tenderlash\n",
      "19  2020-04-20T17:31:36+00:00            redapplecvlt\n",
      "20  2020-04-11T13:26:42+00:00    the_beauty_of_gemina\n",
      "21  2020-04-02T17:48:46+00:00      ligeia_resurrected\n",
      "22  2020-03-30T20:22:41+00:00                fadeinpr\n",
      "23  2020-03-20T22:20:46+00:00  blackphoenixalchemylab\n",
      "24  2020-03-20T22:19:25+00:00               zolajesus\n",
      "25  2020-02-23T16:15:10+00:00           deathwavefest\n",
      "26  2020-02-12T15:09:05+00:00             anarchogoth\n",
      "27  2020-01-31T18:02:57+00:00               zolajesus\n",
      "28  2020-01-28T20:06:16+00:00             anarchogoth\n",
      "29  2020-01-28T20:04:56+00:00           deathwavefest\n",
      "30  2020-01-28T03:31:09+00:00      ligeia_resurrected\n",
      "31  2020-01-26T21:34:28+00:00      electricwildflower\n",
      "32  2020-01-23T04:59:25+00:00         lisamilesviolin\n",
      "33  2020-01-22T05:47:11+00:00  blackphoenixalchemylab\n",
      "34  2020-01-20T02:10:42+00:00      lascaltra_official\n",
      "35  2020-01-17T21:21:20+00:00           deathwavefest\n",
      "36  2020-01-17T21:20:55+00:00             gothrockers\n",
      "37  2020-01-17T21:20:37+00:00             the_wake_us\n",
      "38  2020-01-15T18:11:40+00:00  blackphoenixalchemylab\n",
      "39  2020-01-13T23:32:13+00:00        ashesfallenmusic\n",
      "40  2020-01-13T14:22:11+00:00             the_wake_us\n",
      "41  2020-01-12T16:53:34+00:00  blackphoenixalchemylab\n",
      "42  2020-01-12T02:17:34+00:00            cadaverkelly\n",
      "43  2020-01-10T22:29:45+00:00             the_wake_us\n",
      "44  2020-01-10T20:18:29+00:00             gothrockers\n",
      "45  2020-01-09T20:43:18+00:00           obscuraundead\n",
      "46  2020-01-05T16:58:51+00:00              auger.band\n",
      "47  2020-01-02T15:27:25+00:00            astarinite43\n",
      "48  2020-01-01T19:20:02+00:00             the_wake_us\n",
      "49  2020-01-01T03:32:18+00:00      lascaltra_official\n",
      "50  2020-01-01T03:32:12+00:00          herdespairband\n",
      "51  2020-01-01T03:32:07+00:00             the_wake_us\n",
      "52  2020-01-01T03:31:45+00:00          marissa_nadler\n"
     ]
    }
   ],
   "source": [
    "data = pd.DataFrame(elikes['media_likes'])\n",
    "print(data)"
   ]
  },
  {
   "cell_type": "markdown",
   "id": "indirect-effects",
   "metadata": {},
   "source": [
    "##### Provide Column Names for Data Frame:"
   ]
  },
  {
   "cell_type": "code",
   "execution_count": 57,
   "id": "married-touch",
   "metadata": {},
   "outputs": [
    {
     "name": "stdout",
     "output_type": "stream",
     "text": [
      "                    timestamp                accounts\n",
      "0   2020-12-16T23:33:58+00:00         grey_gallows_gr\n",
      "1   2020-12-16T16:23:08+00:00  blackphoenixalchemylab\n",
      "2   2020-12-15T18:54:21+00:00         themourningband\n",
      "3   2020-12-15T18:53:55+00:00           malefixioband\n",
      "4   2020-12-15T18:53:44+00:00      pilgrimsofyearning\n",
      "5   2020-12-15T18:53:28+00:00                 _djazy_\n",
      "6   2020-11-27T13:43:32+00:00          kingvenusmusic\n",
      "7   2020-10-30T01:52:26+00:00  blackphoenixalchemylab\n",
      "8   2020-10-30T01:49:02+00:00           hallowsmusic_\n",
      "9   2020-10-28T18:17:55+00:00             the_wake_us\n",
      "10  2020-10-12T02:09:16+00:00              altardefey\n",
      "11  2020-05-22T02:00:50+00:00           deathwavefest\n",
      "12  2020-05-21T00:26:30+00:00            redapplecvlt\n",
      "13  2020-04-25T17:34:10+00:00  blackphoenixalchemylab\n",
      "14  2020-04-22T22:31:24+00:00            redapplecvlt\n",
      "15  2020-04-21T13:38:36+00:00        secretsinrecords\n",
      "16  2020-04-21T13:34:21+00:00             gothrockers\n",
      "17  2020-04-21T13:33:34+00:00            redapplecvlt\n",
      "18  2020-04-20T17:32:12+00:00              tenderlash\n",
      "19  2020-04-20T17:31:36+00:00            redapplecvlt\n",
      "20  2020-04-11T13:26:42+00:00    the_beauty_of_gemina\n",
      "21  2020-04-02T17:48:46+00:00      ligeia_resurrected\n",
      "22  2020-03-30T20:22:41+00:00                fadeinpr\n",
      "23  2020-03-20T22:20:46+00:00  blackphoenixalchemylab\n",
      "24  2020-03-20T22:19:25+00:00               zolajesus\n",
      "25  2020-02-23T16:15:10+00:00           deathwavefest\n",
      "26  2020-02-12T15:09:05+00:00             anarchogoth\n",
      "27  2020-01-31T18:02:57+00:00               zolajesus\n",
      "28  2020-01-28T20:06:16+00:00             anarchogoth\n",
      "29  2020-01-28T20:04:56+00:00           deathwavefest\n",
      "30  2020-01-28T03:31:09+00:00      ligeia_resurrected\n",
      "31  2020-01-26T21:34:28+00:00      electricwildflower\n",
      "32  2020-01-23T04:59:25+00:00         lisamilesviolin\n",
      "33  2020-01-22T05:47:11+00:00  blackphoenixalchemylab\n",
      "34  2020-01-20T02:10:42+00:00      lascaltra_official\n",
      "35  2020-01-17T21:21:20+00:00           deathwavefest\n",
      "36  2020-01-17T21:20:55+00:00             gothrockers\n",
      "37  2020-01-17T21:20:37+00:00             the_wake_us\n",
      "38  2020-01-15T18:11:40+00:00  blackphoenixalchemylab\n",
      "39  2020-01-13T23:32:13+00:00        ashesfallenmusic\n",
      "40  2020-01-13T14:22:11+00:00             the_wake_us\n",
      "41  2020-01-12T16:53:34+00:00  blackphoenixalchemylab\n",
      "42  2020-01-12T02:17:34+00:00            cadaverkelly\n",
      "43  2020-01-10T22:29:45+00:00             the_wake_us\n",
      "44  2020-01-10T20:18:29+00:00             gothrockers\n",
      "45  2020-01-09T20:43:18+00:00           obscuraundead\n",
      "46  2020-01-05T16:58:51+00:00              auger.band\n",
      "47  2020-01-02T15:27:25+00:00            astarinite43\n",
      "48  2020-01-01T19:20:02+00:00             the_wake_us\n",
      "49  2020-01-01T03:32:18+00:00      lascaltra_official\n",
      "50  2020-01-01T03:32:12+00:00          herdespairband\n",
      "51  2020-01-01T03:32:07+00:00             the_wake_us\n",
      "52  2020-01-01T03:31:45+00:00          marissa_nadler\n"
     ]
    }
   ],
   "source": [
    "data.columns =['timestamp', 'accounts']\n",
    "print(data)"
   ]
  },
  {
   "cell_type": "markdown",
   "id": "separated-waters",
   "metadata": {},
   "source": [
    "##### Count Instances of \"Like\" per Account:"
   ]
  },
  {
   "cell_type": "code",
   "execution_count": 58,
   "id": "packed-anime",
   "metadata": {},
   "outputs": [
    {
     "data": {
      "text/html": [
       "<div>\n",
       "<style scoped>\n",
       "    .dataframe tbody tr th:only-of-type {\n",
       "        vertical-align: middle;\n",
       "    }\n",
       "\n",
       "    .dataframe tbody tr th {\n",
       "        vertical-align: top;\n",
       "    }\n",
       "\n",
       "    .dataframe thead th {\n",
       "        text-align: right;\n",
       "    }\n",
       "</style>\n",
       "<table border=\"1\" class=\"dataframe\">\n",
       "  <thead>\n",
       "    <tr style=\"text-align: right;\">\n",
       "      <th></th>\n",
       "      <th>timestamp</th>\n",
       "    </tr>\n",
       "    <tr>\n",
       "      <th>accounts</th>\n",
       "      <th></th>\n",
       "    </tr>\n",
       "  </thead>\n",
       "  <tbody>\n",
       "    <tr>\n",
       "      <th>_djazy_</th>\n",
       "      <td>1</td>\n",
       "    </tr>\n",
       "    <tr>\n",
       "      <th>altardefey</th>\n",
       "      <td>1</td>\n",
       "    </tr>\n",
       "    <tr>\n",
       "      <th>anarchogoth</th>\n",
       "      <td>2</td>\n",
       "    </tr>\n",
       "    <tr>\n",
       "      <th>ashesfallenmusic</th>\n",
       "      <td>1</td>\n",
       "    </tr>\n",
       "    <tr>\n",
       "      <th>astarinite43</th>\n",
       "      <td>1</td>\n",
       "    </tr>\n",
       "    <tr>\n",
       "      <th>auger.band</th>\n",
       "      <td>1</td>\n",
       "    </tr>\n",
       "    <tr>\n",
       "      <th>blackphoenixalchemylab</th>\n",
       "      <td>7</td>\n",
       "    </tr>\n",
       "    <tr>\n",
       "      <th>cadaverkelly</th>\n",
       "      <td>1</td>\n",
       "    </tr>\n",
       "    <tr>\n",
       "      <th>deathwavefest</th>\n",
       "      <td>4</td>\n",
       "    </tr>\n",
       "    <tr>\n",
       "      <th>electricwildflower</th>\n",
       "      <td>1</td>\n",
       "    </tr>\n",
       "    <tr>\n",
       "      <th>fadeinpr</th>\n",
       "      <td>1</td>\n",
       "    </tr>\n",
       "    <tr>\n",
       "      <th>gothrockers</th>\n",
       "      <td>3</td>\n",
       "    </tr>\n",
       "    <tr>\n",
       "      <th>grey_gallows_gr</th>\n",
       "      <td>1</td>\n",
       "    </tr>\n",
       "    <tr>\n",
       "      <th>hallowsmusic_</th>\n",
       "      <td>1</td>\n",
       "    </tr>\n",
       "    <tr>\n",
       "      <th>herdespairband</th>\n",
       "      <td>1</td>\n",
       "    </tr>\n",
       "    <tr>\n",
       "      <th>kingvenusmusic</th>\n",
       "      <td>1</td>\n",
       "    </tr>\n",
       "    <tr>\n",
       "      <th>lascaltra_official</th>\n",
       "      <td>2</td>\n",
       "    </tr>\n",
       "    <tr>\n",
       "      <th>ligeia_resurrected</th>\n",
       "      <td>2</td>\n",
       "    </tr>\n",
       "    <tr>\n",
       "      <th>lisamilesviolin</th>\n",
       "      <td>1</td>\n",
       "    </tr>\n",
       "    <tr>\n",
       "      <th>malefixioband</th>\n",
       "      <td>1</td>\n",
       "    </tr>\n",
       "    <tr>\n",
       "      <th>marissa_nadler</th>\n",
       "      <td>1</td>\n",
       "    </tr>\n",
       "    <tr>\n",
       "      <th>obscuraundead</th>\n",
       "      <td>1</td>\n",
       "    </tr>\n",
       "    <tr>\n",
       "      <th>pilgrimsofyearning</th>\n",
       "      <td>1</td>\n",
       "    </tr>\n",
       "    <tr>\n",
       "      <th>redapplecvlt</th>\n",
       "      <td>4</td>\n",
       "    </tr>\n",
       "    <tr>\n",
       "      <th>secretsinrecords</th>\n",
       "      <td>1</td>\n",
       "    </tr>\n",
       "    <tr>\n",
       "      <th>tenderlash</th>\n",
       "      <td>1</td>\n",
       "    </tr>\n",
       "    <tr>\n",
       "      <th>the_beauty_of_gemina</th>\n",
       "      <td>1</td>\n",
       "    </tr>\n",
       "    <tr>\n",
       "      <th>the_wake_us</th>\n",
       "      <td>6</td>\n",
       "    </tr>\n",
       "    <tr>\n",
       "      <th>themourningband</th>\n",
       "      <td>1</td>\n",
       "    </tr>\n",
       "    <tr>\n",
       "      <th>zolajesus</th>\n",
       "      <td>2</td>\n",
       "    </tr>\n",
       "  </tbody>\n",
       "</table>\n",
       "</div>"
      ],
      "text/plain": [
       "                        timestamp\n",
       "accounts                         \n",
       "_djazy_                         1\n",
       "altardefey                      1\n",
       "anarchogoth                     2\n",
       "ashesfallenmusic                1\n",
       "astarinite43                    1\n",
       "auger.band                      1\n",
       "blackphoenixalchemylab          7\n",
       "cadaverkelly                    1\n",
       "deathwavefest                   4\n",
       "electricwildflower              1\n",
       "fadeinpr                        1\n",
       "gothrockers                     3\n",
       "grey_gallows_gr                 1\n",
       "hallowsmusic_                   1\n",
       "herdespairband                  1\n",
       "kingvenusmusic                  1\n",
       "lascaltra_official              2\n",
       "ligeia_resurrected              2\n",
       "lisamilesviolin                 1\n",
       "malefixioband                   1\n",
       "marissa_nadler                  1\n",
       "obscuraundead                   1\n",
       "pilgrimsofyearning              1\n",
       "redapplecvlt                    4\n",
       "secretsinrecords                1\n",
       "tenderlash                      1\n",
       "the_beauty_of_gemina            1\n",
       "the_wake_us                     6\n",
       "themourningband                 1\n",
       "zolajesus                       2"
      ]
     },
     "execution_count": 58,
     "metadata": {},
     "output_type": "execute_result"
    }
   ],
   "source": [
    "count_elikes = data.groupby('accounts').count()\n",
    "count_elikes"
   ]
  },
  {
   "cell_type": "markdown",
   "id": "controlling-karma",
   "metadata": {},
   "source": [
    "##### Sort Accounts by Number of Likes:"
   ]
  },
  {
   "cell_type": "code",
   "execution_count": 59,
   "id": "about-kingston",
   "metadata": {},
   "outputs": [
    {
     "data": {
      "text/html": [
       "<div>\n",
       "<style scoped>\n",
       "    .dataframe tbody tr th:only-of-type {\n",
       "        vertical-align: middle;\n",
       "    }\n",
       "\n",
       "    .dataframe tbody tr th {\n",
       "        vertical-align: top;\n",
       "    }\n",
       "\n",
       "    .dataframe thead th {\n",
       "        text-align: right;\n",
       "    }\n",
       "</style>\n",
       "<table border=\"1\" class=\"dataframe\">\n",
       "  <thead>\n",
       "    <tr style=\"text-align: right;\">\n",
       "      <th></th>\n",
       "      <th>timestamp</th>\n",
       "    </tr>\n",
       "    <tr>\n",
       "      <th>accounts</th>\n",
       "      <th></th>\n",
       "    </tr>\n",
       "  </thead>\n",
       "  <tbody>\n",
       "    <tr>\n",
       "      <th>blackphoenixalchemylab</th>\n",
       "      <td>7</td>\n",
       "    </tr>\n",
       "    <tr>\n",
       "      <th>the_wake_us</th>\n",
       "      <td>6</td>\n",
       "    </tr>\n",
       "    <tr>\n",
       "      <th>deathwavefest</th>\n",
       "      <td>4</td>\n",
       "    </tr>\n",
       "    <tr>\n",
       "      <th>redapplecvlt</th>\n",
       "      <td>4</td>\n",
       "    </tr>\n",
       "    <tr>\n",
       "      <th>gothrockers</th>\n",
       "      <td>3</td>\n",
       "    </tr>\n",
       "    <tr>\n",
       "      <th>zolajesus</th>\n",
       "      <td>2</td>\n",
       "    </tr>\n",
       "    <tr>\n",
       "      <th>lascaltra_official</th>\n",
       "      <td>2</td>\n",
       "    </tr>\n",
       "    <tr>\n",
       "      <th>ligeia_resurrected</th>\n",
       "      <td>2</td>\n",
       "    </tr>\n",
       "    <tr>\n",
       "      <th>anarchogoth</th>\n",
       "      <td>2</td>\n",
       "    </tr>\n",
       "    <tr>\n",
       "      <th>tenderlash</th>\n",
       "      <td>1</td>\n",
       "    </tr>\n",
       "    <tr>\n",
       "      <th>lisamilesviolin</th>\n",
       "      <td>1</td>\n",
       "    </tr>\n",
       "    <tr>\n",
       "      <th>the_beauty_of_gemina</th>\n",
       "      <td>1</td>\n",
       "    </tr>\n",
       "    <tr>\n",
       "      <th>themourningband</th>\n",
       "      <td>1</td>\n",
       "    </tr>\n",
       "    <tr>\n",
       "      <th>pilgrimsofyearning</th>\n",
       "      <td>1</td>\n",
       "    </tr>\n",
       "    <tr>\n",
       "      <th>obscuraundead</th>\n",
       "      <td>1</td>\n",
       "    </tr>\n",
       "    <tr>\n",
       "      <th>marissa_nadler</th>\n",
       "      <td>1</td>\n",
       "    </tr>\n",
       "    <tr>\n",
       "      <th>malefixioband</th>\n",
       "      <td>1</td>\n",
       "    </tr>\n",
       "    <tr>\n",
       "      <th>secretsinrecords</th>\n",
       "      <td>1</td>\n",
       "    </tr>\n",
       "    <tr>\n",
       "      <th>_djazy_</th>\n",
       "      <td>1</td>\n",
       "    </tr>\n",
       "    <tr>\n",
       "      <th>altardefey</th>\n",
       "      <td>1</td>\n",
       "    </tr>\n",
       "    <tr>\n",
       "      <th>herdespairband</th>\n",
       "      <td>1</td>\n",
       "    </tr>\n",
       "    <tr>\n",
       "      <th>hallowsmusic_</th>\n",
       "      <td>1</td>\n",
       "    </tr>\n",
       "    <tr>\n",
       "      <th>grey_gallows_gr</th>\n",
       "      <td>1</td>\n",
       "    </tr>\n",
       "    <tr>\n",
       "      <th>fadeinpr</th>\n",
       "      <td>1</td>\n",
       "    </tr>\n",
       "    <tr>\n",
       "      <th>electricwildflower</th>\n",
       "      <td>1</td>\n",
       "    </tr>\n",
       "    <tr>\n",
       "      <th>cadaverkelly</th>\n",
       "      <td>1</td>\n",
       "    </tr>\n",
       "    <tr>\n",
       "      <th>auger.band</th>\n",
       "      <td>1</td>\n",
       "    </tr>\n",
       "    <tr>\n",
       "      <th>astarinite43</th>\n",
       "      <td>1</td>\n",
       "    </tr>\n",
       "    <tr>\n",
       "      <th>ashesfallenmusic</th>\n",
       "      <td>1</td>\n",
       "    </tr>\n",
       "    <tr>\n",
       "      <th>kingvenusmusic</th>\n",
       "      <td>1</td>\n",
       "    </tr>\n",
       "  </tbody>\n",
       "</table>\n",
       "</div>"
      ],
      "text/plain": [
       "                        timestamp\n",
       "accounts                         \n",
       "blackphoenixalchemylab          7\n",
       "the_wake_us                     6\n",
       "deathwavefest                   4\n",
       "redapplecvlt                    4\n",
       "gothrockers                     3\n",
       "zolajesus                       2\n",
       "lascaltra_official              2\n",
       "ligeia_resurrected              2\n",
       "anarchogoth                     2\n",
       "tenderlash                      1\n",
       "lisamilesviolin                 1\n",
       "the_beauty_of_gemina            1\n",
       "themourningband                 1\n",
       "pilgrimsofyearning              1\n",
       "obscuraundead                   1\n",
       "marissa_nadler                  1\n",
       "malefixioband                   1\n",
       "secretsinrecords                1\n",
       "_djazy_                         1\n",
       "altardefey                      1\n",
       "herdespairband                  1\n",
       "hallowsmusic_                   1\n",
       "grey_gallows_gr                 1\n",
       "fadeinpr                        1\n",
       "electricwildflower              1\n",
       "cadaverkelly                    1\n",
       "auger.band                      1\n",
       "astarinite43                    1\n",
       "ashesfallenmusic                1\n",
       "kingvenusmusic                  1"
      ]
     },
     "execution_count": 59,
     "metadata": {},
     "output_type": "execute_result"
    }
   ],
   "source": [
    "count_elikes.sort_values('timestamp' ,ascending=False)"
   ]
  },
  {
   "cell_type": "markdown",
   "id": "unexpected-adolescent",
   "metadata": {},
   "source": [
    "##### Bar Chart Showing Likes per Account:"
   ]
  },
  {
   "cell_type": "code",
   "execution_count": 60,
   "id": "automatic-reunion",
   "metadata": {},
   "outputs": [
    {
     "data": {
      "image/png": "[encoded data removed]",
      "text/plain": [
       "<Figure size 800x800 with 1 Axes>"
      ]
     },
     "metadata": {},
     "output_type": "display_data"
    }
   ],
   "source": [
    "sortcount = count_elikes.sort_values('timestamp' ,ascending=False)\n",
    "labels = sortcount['timestamp'].keys()\n",
    "vals = sortcount['timestamp']\n",
    "width = .75\n",
    "\n",
    "fig, ax = plt.subplots(figsize=(10,10), dpi = 80, facecolor = 'w', edgecolor = 'k')\n",
    "ax.bar(labels, vals, width)\n",
    "ax.set_ylabel('Likes')\n",
    "plt.xticks(rotation=90, fontsize = 'small')\n",
    "plt.show()"
   ]
  },
  {
   "cell_type": "markdown",
   "id": "comic-macro",
   "metadata": {},
   "source": [
    "##### Pie Chart Showing Likes per Account:"
   ]
  },
  {
   "cell_type": "code",
   "execution_count": 61,
   "id": "metallic-captain",
   "metadata": {},
   "outputs": [
    {
     "data": {
      "image/png": "[encoded data removed]",
      "text/plain": [
       "<Figure size 432x288 with 1 Axes>"
      ]
     },
     "metadata": {},
     "output_type": "display_data"
    }
   ],
   "source": [
    "fig2, ax2 = plt.subplots()\n",
    "ax2.pie(vals, labels = labels)\n",
    "ax2.axis('equal')\n",
    "plt.show()"
   ]
  },
  {
   "cell_type": "markdown",
   "id": "divine-wellington",
   "metadata": {},
   "source": [
    "##### Interpretation of Results:"
   ]
  },
  {
   "cell_type": "markdown",
   "id": "australian-lounge",
   "metadata": {},
   "source": [
    "Cursory glances at the data, whether expressed as a table, bar, or pie chart, shows that I am not, by any means, a prolific user of Instagram.  Throughout my entire Instagarm history, I have \"Liked\" fewer than 100 posts across only a couple dozen accounts.\n",
    "\n",
    "The overwhelming majority of the accounts listed in my \"Likes\" report are musicians and bands; this makes sense as most of my usage across all social media is to follow my favorite musicians.\n",
    "\n",
    "The number one most-liked account, however, *Black Phoenix Alchemy Lab*, is not a band, but rather a company that hand-makes small-batch perfumes, oils, and personal care items.  Upon consideration of this fact, I realized that during the short time I was using Instagram, *BPAL* was releasing a new seasonal lineup of fragrances and would have been posting often."
   ]
  }
 ],
 "metadata": {
  "kernelspec": {
   "display_name": "Python 3",
   "language": "python",
   "name": "python3"
  },
  "language_info": {
   "codemirror_mode": {
    "name": "ipython",
    "version": 3
   },
   "file_extension": ".py",
   "mimetype": "text/x-python",
   "name": "python",
   "nbconvert_exporter": "python",
   "pygments_lexer": "ipython3",
   "version": "3.9.1"
  }
 },
 "nbformat": 4,
 "nbformat_minor": 5
}
